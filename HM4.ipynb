{
  "nbformat": 4,
  "nbformat_minor": 0,
  "metadata": {
    "kernelspec": {
      "display_name": "Python 3",
      "language": "python",
      "name": "python3"
    },
    "language_info": {
      "codemirror_mode": {
        "name": "ipython",
        "version": 3
      },
      "file_extension": ".py",
      "mimetype": "text/x-python",
      "name": "python",
      "nbconvert_exporter": "python",
      "pygments_lexer": "ipython3",
      "version": "3.6.4"
    },
    "colab": {
      "name": "HM4.ipynb",
      "provenance": [],
      "collapsed_sections": []
    },
    "accelerator": "GPU"
  },
  "cells": [
    {
      "cell_type": "markdown",
      "metadata": {
        "id": "O259JzSf6bc_"
      },
      "source": [
        "# Home 4: Build a CNN for image recognition.\n",
        "\n",
        "### Name: [Prajwal Prakash]\n"
      ]
    },
    {
      "cell_type": "markdown",
      "metadata": {
        "id": "JKmCb-ey6bdK"
      },
      "source": [
        "## 0. You will do the following:\n",
        "\n",
        "1. Read, complete, and run the code.\n",
        "\n",
        "2. **Make substantial improvements** to maximize the accurcy.\n",
        "    \n",
        "3. Convert the .IPYNB file to .HTML file.\n",
        "\n",
        "    * The HTML file must contain the code and the output after execution.\n",
        "    \n",
        "    * Missing **the output after execution** will not be graded.\n",
        "    \n",
        "4. Upload this .HTML file to your Google Drive, Dropbox, or Github repo. (If you submit the file to Google Drive or Dropbox, you must make the file \"open-access\". The delay caused by \"deny of access\" may result in late penalty.)\n",
        "\n",
        "4. Submit the link to this .HTML file to Canvas.\n",
        "\n",
        "    * Example: https://github.com/wangshusen/CS583-2020S/blob/master/homework/HM4/HM4.html\n",
        "\n",
        "\n",
        "## Requirements:\n",
        "\n",
        "1. You can use whatever CNN architecture, including VGG, Inception, and ResNet. However, you must build the networks layer by layer. You must NOT import the archetectures from ```keras.applications```.\n",
        "\n",
        "2. Make sure ```BatchNormalization``` is between a ```Conv```/```Dense``` layer and an ```activation``` layer.\n",
        "\n",
        "3. If you want to regularize a ```Conv```/```Dense``` layer, you should place a ```Dropout``` layer **before** the ```Conv```/```Dense``` layer.\n",
        "\n",
        "4. An accuracy above 70% is considered reasonable. An accuracy above 80% is considered good. Without data augmentation, achieving 80% accuracy is difficult.\n",
        "\n",
        "\n",
        "## Google Colab\n",
        "\n",
        "- If you do not have GPU, the training of a CNN can be slow. Google Colab is a good option.\n",
        "\n",
        "- Keep in mind that you must download it as an IPYNB file and then use IPython Notebook to convert it to HTML.\n",
        "\n",
        "- Also keep in mind that the IPYNB and HTML files must contain the outputs. (Otherwise, the instructor will not be able to know the correctness and performance.) Do the followings to keep the outputs.\n",
        "\n",
        "- In Colab, go to ```Runtime``` --> ```Change runtime type``` --> Do NOT check ```Omit code cell output when saving this notebook```. In this way, the downloaded IPYNB file contains the outputs."
      ]
    },
    {
      "cell_type": "markdown",
      "metadata": {
        "id": "tJQ78thk6bdM"
      },
      "source": [
        "## 1. Data preparation"
      ]
    },
    {
      "cell_type": "markdown",
      "metadata": {
        "id": "T6t0Bcsp6bdM"
      },
      "source": [
        "### 1.1. Load data\n"
      ]
    },
    {
      "cell_type": "code",
      "metadata": {
        "colab": {
          "base_uri": "https://localhost:8080/"
        },
        "id": "gU0TGU6C6bdN",
        "outputId": "0bb88f72-2076-4abd-82ea-0d7c464c6187"
      },
      "source": [
        "from keras.datasets import cifar10\n",
        "import numpy as np\n",
        "\n",
        "(x_train, y_train), (x_test, y_test) = cifar10.load_data()\n",
        "\n",
        "print('shape of x_train: ' + str(x_train.shape))\n",
        "print('shape of y_train: ' + str(y_train.shape))\n",
        "print('shape of x_test: ' + str(x_test.shape))\n",
        "print('shape of y_test: ' + str(y_test.shape))\n",
        "print('number of classes: ' + str(np.max(y_train) - np.min(y_train) + 1))\n",
        "numberOfClasses = np.max(y_train) - np.min(y_train) + 1"
      ],
      "execution_count": 29,
      "outputs": [
        {
          "output_type": "stream",
          "text": [
            "shape of x_train: (50000, 32, 32, 3)\n",
            "shape of y_train: (50000, 1)\n",
            "shape of x_test: (10000, 32, 32, 3)\n",
            "shape of y_test: (10000, 1)\n",
            "number of classes: 10\n"
          ],
          "name": "stdout"
        }
      ]
    },
    {
      "cell_type": "markdown",
      "metadata": {
        "id": "AX9w1QqX6bdP"
      },
      "source": [
        "### 1.2. One-hot encode the labels\n",
        "\n",
        "In the input, a label is a scalar in $\\{0, 1, \\cdots , 9\\}$. One-hot encode transform such a scalar to a $10$-dim vector. E.g., a scalar ```y_train[j]=3``` is transformed to the vector ```y_train_vec[j]=[0, 0, 0, 1, 0, 0, 0, 0, 0, 0]```.\n",
        "\n",
        "1. Define a function ```to_one_hot``` that transforms an $n\\times 1$ array to a $n\\times 10$ matrix.\n",
        "\n",
        "2. Apply the function to ```y_train``` and ```y_test```."
      ]
    },
    {
      "cell_type": "code",
      "metadata": {
        "id": "XQ6LUoSa6bdQ",
        "colab": {
          "base_uri": "https://localhost:8080/"
        },
        "outputId": "6449d6e6-2209-439e-d56f-2d9e130d11b4"
      },
      "source": [
        "def to_one_hot(y, num_class=10):\n",
        "  final = []\n",
        "  for value in y[ : , 0]:\n",
        "    a = np.zeros(num_class)\n",
        "    a[value] = 1\n",
        "    final.append(a)\n",
        "  return np.array(final)\n",
        "\n",
        "y_train_vec = to_one_hot(y_train)\n",
        "y_test_vec = to_one_hot(y_test)\n",
        "\n",
        "print('Shape of y_train_vec: ' + str(y_train_vec.shape))\n",
        "print('Shape of y_test_vec: ' + str(y_test_vec.shape))\n",
        "\n",
        "print(y_train[0])\n",
        "print(y_train_vec[0])"
      ],
      "execution_count": 30,
      "outputs": [
        {
          "output_type": "stream",
          "text": [
            "Shape of y_train_vec: (50000, 10)\n",
            "Shape of y_test_vec: (10000, 10)\n",
            "[6]\n",
            "[0. 0. 0. 0. 0. 0. 1. 0. 0. 0.]\n"
          ],
          "name": "stdout"
        }
      ]
    },
    {
      "cell_type": "markdown",
      "metadata": {
        "id": "JdWUoWEw6bdR"
      },
      "source": [
        "#### Remark: the outputs should be\n",
        "* Shape of y_train_vec: (50000, 10)\n",
        "* Shape of y_test_vec: (10000, 10)\n",
        "* [6]\n",
        "* [0. 0. 0. 0. 0. 0. 1. 0. 0. 0.]"
      ]
    },
    {
      "cell_type": "markdown",
      "metadata": {
        "id": "3ef4un7c6bdS"
      },
      "source": [
        "### 1.3. Randomly partition the training set to training and validation sets\n",
        "\n",
        "Randomly partition the 50K training samples to 2 sets:\n",
        "* a training set containing 40K samples\n",
        "* a validation set containing 10K samples\n"
      ]
    },
    {
      "cell_type": "code",
      "metadata": {
        "id": "lvaj1Fnk6bdT",
        "colab": {
          "base_uri": "https://localhost:8080/"
        },
        "outputId": "a5455d4f-b6e1-444a-f8a2-61f0ba16d3d7"
      },
      "source": [
        "rand_indices = np.random.permutation(50000)\n",
        "train_indices = rand_indices[0:40000]\n",
        "valid_indices = rand_indices[40000:50000]\n",
        "\n",
        "x_val = x_train[valid_indices, :]\n",
        "y_val = y_train_vec[valid_indices, :]\n",
        "\n",
        "x_tr = x_train[train_indices, :]\n",
        "y_tr = y_train_vec[train_indices, :]\n",
        "\n",
        "print('Shape of x_tr: ' + str(x_tr.shape))\n",
        "print('Shape of y_tr: ' + str(y_tr.shape))\n",
        "print('Shape of x_val: ' + str(x_val.shape))\n",
        "print('Shape of y_val: ' + str(y_val.shape))"
      ],
      "execution_count": 31,
      "outputs": [
        {
          "output_type": "stream",
          "text": [
            "Shape of x_tr: (40000, 32, 32, 3)\n",
            "Shape of y_tr: (40000, 10)\n",
            "Shape of x_val: (10000, 32, 32, 3)\n",
            "Shape of y_val: (10000, 10)\n"
          ],
          "name": "stdout"
        }
      ]
    },
    {
      "cell_type": "markdown",
      "metadata": {
        "id": "-BfdhUKe6bdU"
      },
      "source": [
        "## 2. Build a CNN and tune its hyper-parameters\n",
        "\n",
        "1. Build a convolutional neural network model\n",
        "2. Use the validation data to tune the hyper-parameters (e.g., network structure, and optimization algorithm)\n",
        "    * Do NOT use test data for hyper-parameter tuning!!!\n",
        "3. Try to achieve a validation accuracy as high as possible."
      ]
    },
    {
      "cell_type": "markdown",
      "metadata": {
        "id": "iQw7uJFH6bdU"
      },
      "source": [
        "### Remark: \n",
        "\n",
        "The following CNN is just an example. You are supposed to make **substantial improvements** such as:\n",
        "* Add more layers.\n",
        "* Use regularizations, e.g., dropout.\n",
        "* Use batch normalization."
      ]
    },
    {
      "cell_type": "code",
      "metadata": {
        "id": "wFqIWWfL6bdV",
        "colab": {
          "base_uri": "https://localhost:8080/"
        },
        "outputId": "8e903aab-9032-442d-908f-723cbadc791f"
      },
      "source": [
        "from keras.layers import Conv2D, MaxPooling2D, Flatten, Dense, Dropout, BatchNormalization\n",
        "from keras.models import Sequential\n",
        "\n",
        "\n",
        "model = Sequential()\n",
        "model.add(Conv2D(32, (3, 3), activation='relu', padding='same', input_shape=(32, 32, 3)))\n",
        "model.add(BatchNormalization())\n",
        "model.add(Conv2D(32, (3, 3), activation='relu', padding='same'))\n",
        "model.add(BatchNormalization())\n",
        "model.add(MaxPooling2D((2, 2)))\n",
        "model.add(Dropout(0.2))\n",
        "\n",
        "model.add(Conv2D(64, (3, 3), activation='relu', padding='same'))\n",
        "model.add(BatchNormalization())\n",
        "model.add(Conv2D(64, (3, 3), activation='relu', padding='same'))\n",
        "model.add(BatchNormalization())\n",
        "model.add(MaxPooling2D((2, 2)))\n",
        "model.add(Dropout(0.3))\n",
        "\n",
        "model.add(Conv2D(128, (3, 3), activation='relu', padding='same'))\n",
        "model.add(BatchNormalization())\n",
        "model.add(Conv2D(128, (3, 3), activation='relu', padding='same'))\n",
        "model.add(BatchNormalization())\n",
        "model.add(MaxPooling2D((2, 2)))\n",
        "model.add(Dropout(0.4))\n",
        "\n",
        "# model.add(Conv2D(256, (3, 3), activation='relu', padding='same'))\n",
        "# model.add(BatchNormalization())\n",
        "# model.add(Conv2D(256, (3, 3), activation='relu', padding='same'))\n",
        "# model.add(BatchNormalization())\n",
        "# model.add(MaxPooling2D((2, 2)))\n",
        "# model.add(Dropout(0.5))\n",
        "\n",
        "model.add(Flatten())\n",
        "# model.add(Dropout(0.5))\n",
        "model.add(Dense(128, activation='relu'))\n",
        "model.add(BatchNormalization())\n",
        "# model.add(Dense(256, activation='relu'))\n",
        "model.add(Dropout(0.5))\n",
        "model.add(Dense(10, activation='softmax'))\n",
        "\n",
        "\n",
        "model.summary()"
      ],
      "execution_count": 32,
      "outputs": [
        {
          "output_type": "stream",
          "text": [
            "Model: \"sequential_4\"\n",
            "_________________________________________________________________\n",
            "Layer (type)                 Output Shape              Param #   \n",
            "=================================================================\n",
            "conv2d_26 (Conv2D)           (None, 32, 32, 32)        896       \n",
            "_________________________________________________________________\n",
            "batch_normalization_30 (Batc (None, 32, 32, 32)        128       \n",
            "_________________________________________________________________\n",
            "conv2d_27 (Conv2D)           (None, 32, 32, 32)        9248      \n",
            "_________________________________________________________________\n",
            "batch_normalization_31 (Batc (None, 32, 32, 32)        128       \n",
            "_________________________________________________________________\n",
            "max_pooling2d_13 (MaxPooling (None, 16, 16, 32)        0         \n",
            "_________________________________________________________________\n",
            "dropout_17 (Dropout)         (None, 16, 16, 32)        0         \n",
            "_________________________________________________________________\n",
            "conv2d_28 (Conv2D)           (None, 16, 16, 64)        18496     \n",
            "_________________________________________________________________\n",
            "batch_normalization_32 (Batc (None, 16, 16, 64)        256       \n",
            "_________________________________________________________________\n",
            "conv2d_29 (Conv2D)           (None, 16, 16, 64)        36928     \n",
            "_________________________________________________________________\n",
            "batch_normalization_33 (Batc (None, 16, 16, 64)        256       \n",
            "_________________________________________________________________\n",
            "max_pooling2d_14 (MaxPooling (None, 8, 8, 64)          0         \n",
            "_________________________________________________________________\n",
            "dropout_18 (Dropout)         (None, 8, 8, 64)          0         \n",
            "_________________________________________________________________\n",
            "conv2d_30 (Conv2D)           (None, 8, 8, 128)         73856     \n",
            "_________________________________________________________________\n",
            "batch_normalization_34 (Batc (None, 8, 8, 128)         512       \n",
            "_________________________________________________________________\n",
            "conv2d_31 (Conv2D)           (None, 8, 8, 128)         147584    \n",
            "_________________________________________________________________\n",
            "batch_normalization_35 (Batc (None, 8, 8, 128)         512       \n",
            "_________________________________________________________________\n",
            "max_pooling2d_15 (MaxPooling (None, 4, 4, 128)         0         \n",
            "_________________________________________________________________\n",
            "dropout_19 (Dropout)         (None, 4, 4, 128)         0         \n",
            "_________________________________________________________________\n",
            "flatten_4 (Flatten)          (None, 2048)              0         \n",
            "_________________________________________________________________\n",
            "dense_8 (Dense)              (None, 128)               262272    \n",
            "_________________________________________________________________\n",
            "batch_normalization_36 (Batc (None, 128)               512       \n",
            "_________________________________________________________________\n",
            "dropout_20 (Dropout)         (None, 128)               0         \n",
            "_________________________________________________________________\n",
            "dense_9 (Dense)              (None, 10)                1290      \n",
            "=================================================================\n",
            "Total params: 552,874\n",
            "Trainable params: 551,722\n",
            "Non-trainable params: 1,152\n",
            "_________________________________________________________________\n"
          ],
          "name": "stdout"
        }
      ]
    },
    {
      "cell_type": "code",
      "metadata": {
        "id": "kWqx3FeG6bdW"
      },
      "source": [
        "from keras import optimizers\n",
        "\n",
        "learning_rate = 0.001 # to be tuned!\n",
        "\n",
        "model.compile(loss='CategoricalCrossentropy',\n",
        "              optimizer=optimizers.RMSprop(lr=learning_rate),\n",
        "              metrics=['acc'])"
      ],
      "execution_count": 33,
      "outputs": []
    },
    {
      "cell_type": "code",
      "metadata": {
        "colab": {
          "base_uri": "https://localhost:8080/"
        },
        "id": "I4XKKaV8xmjR",
        "outputId": "a61b0584-7362-4eb0-85cb-3481709b6a0d"
      },
      "source": [
        "from keras.preprocessing.image import ImageDataGenerator\n",
        "\n",
        "datagen = ImageDataGenerator(width_shift_range = 0.1, height_shift_range = 0.1, horizontal_flip = True, )\n",
        "# it_train = datagen.flow(x_tr, y_tr, 512)\n",
        "datagen.fit(x_tr)\n",
        "\n",
        "history = model.fit(datagen.flow(x_tr, y_tr, batch_size=512),\n",
        "    epochs=100,\n",
        "    validation_data=(x_val, y_val))"
      ],
      "execution_count": 34,
      "outputs": [
        {
          "output_type": "stream",
          "text": [
            "Epoch 1/100\n",
            "79/79 [==============================] - 19s 224ms/step - loss: 2.3330 - acc: 0.2732 - val_loss: 1.8965 - val_acc: 0.3142\n",
            "Epoch 2/100\n",
            "79/79 [==============================] - 17s 218ms/step - loss: 1.6260 - acc: 0.4401 - val_loss: 1.3619 - val_acc: 0.5119\n",
            "Epoch 3/100\n",
            "79/79 [==============================] - 17s 221ms/step - loss: 1.3781 - acc: 0.5259 - val_loss: 1.2727 - val_acc: 0.5575\n",
            "Epoch 4/100\n",
            "79/79 [==============================] - 17s 219ms/step - loss: 1.2178 - acc: 0.5785 - val_loss: 1.0756 - val_acc: 0.6124\n",
            "Epoch 5/100\n",
            "79/79 [==============================] - 17s 219ms/step - loss: 1.0685 - acc: 0.6285 - val_loss: 0.9210 - val_acc: 0.6765\n",
            "Epoch 6/100\n",
            "79/79 [==============================] - 17s 220ms/step - loss: 0.9935 - acc: 0.6538 - val_loss: 0.9203 - val_acc: 0.6812\n",
            "Epoch 7/100\n",
            "79/79 [==============================] - 17s 218ms/step - loss: 0.9249 - acc: 0.6746 - val_loss: 0.7932 - val_acc: 0.7164\n",
            "Epoch 8/100\n",
            "79/79 [==============================] - 17s 221ms/step - loss: 0.8456 - acc: 0.7042 - val_loss: 0.7096 - val_acc: 0.7499\n",
            "Epoch 9/100\n",
            "79/79 [==============================] - 17s 221ms/step - loss: 0.8050 - acc: 0.7224 - val_loss: 0.9364 - val_acc: 0.6865\n",
            "Epoch 10/100\n",
            "79/79 [==============================] - 17s 223ms/step - loss: 0.7709 - acc: 0.7321 - val_loss: 0.7164 - val_acc: 0.7495\n",
            "Epoch 11/100\n",
            "79/79 [==============================] - 17s 218ms/step - loss: 0.7497 - acc: 0.7433 - val_loss: 0.9428 - val_acc: 0.6939\n",
            "Epoch 12/100\n",
            "79/79 [==============================] - 17s 220ms/step - loss: 0.7016 - acc: 0.7586 - val_loss: 0.6898 - val_acc: 0.7638\n",
            "Epoch 13/100\n",
            "79/79 [==============================] - 17s 218ms/step - loss: 0.6753 - acc: 0.7677 - val_loss: 0.6248 - val_acc: 0.7834\n",
            "Epoch 14/100\n",
            "79/79 [==============================] - 17s 221ms/step - loss: 0.6662 - acc: 0.7705 - val_loss: 0.6389 - val_acc: 0.7811\n",
            "Epoch 15/100\n",
            "79/79 [==============================] - 17s 221ms/step - loss: 0.6421 - acc: 0.7779 - val_loss: 0.5807 - val_acc: 0.7969\n",
            "Epoch 16/100\n",
            "79/79 [==============================] - 17s 220ms/step - loss: 0.6284 - acc: 0.7833 - val_loss: 0.5904 - val_acc: 0.7974\n",
            "Epoch 17/100\n",
            "79/79 [==============================] - 17s 220ms/step - loss: 0.6199 - acc: 0.7856 - val_loss: 0.8530 - val_acc: 0.7458\n",
            "Epoch 18/100\n",
            "79/79 [==============================] - 17s 219ms/step - loss: 0.5981 - acc: 0.7938 - val_loss: 0.5781 - val_acc: 0.8031\n",
            "Epoch 19/100\n",
            "79/79 [==============================] - 17s 220ms/step - loss: 0.5890 - acc: 0.7972 - val_loss: 0.5404 - val_acc: 0.8106\n",
            "Epoch 20/100\n",
            "79/79 [==============================] - 17s 220ms/step - loss: 0.5758 - acc: 0.8056 - val_loss: 0.5563 - val_acc: 0.8101\n",
            "Epoch 21/100\n",
            "79/79 [==============================] - 17s 221ms/step - loss: 0.5523 - acc: 0.8087 - val_loss: 0.6037 - val_acc: 0.7944\n",
            "Epoch 22/100\n",
            "79/79 [==============================] - 17s 220ms/step - loss: 0.5418 - acc: 0.8153 - val_loss: 0.5966 - val_acc: 0.8026\n",
            "Epoch 23/100\n",
            "79/79 [==============================] - 17s 219ms/step - loss: 0.5486 - acc: 0.8115 - val_loss: 0.4949 - val_acc: 0.8304\n",
            "Epoch 24/100\n",
            "79/79 [==============================] - 17s 220ms/step - loss: 0.5229 - acc: 0.8210 - val_loss: 0.5142 - val_acc: 0.8246\n",
            "Epoch 25/100\n",
            "79/79 [==============================] - 17s 220ms/step - loss: 0.5079 - acc: 0.8224 - val_loss: 0.5267 - val_acc: 0.8208\n",
            "Epoch 26/100\n",
            "79/79 [==============================] - 18s 226ms/step - loss: 0.5070 - acc: 0.8254 - val_loss: 0.5673 - val_acc: 0.8115\n",
            "Epoch 27/100\n",
            "79/79 [==============================] - 18s 222ms/step - loss: 0.5008 - acc: 0.8285 - val_loss: 0.5139 - val_acc: 0.8263\n",
            "Epoch 28/100\n",
            "79/79 [==============================] - 17s 221ms/step - loss: 0.4999 - acc: 0.8289 - val_loss: 0.4888 - val_acc: 0.8353\n",
            "Epoch 29/100\n",
            "79/79 [==============================] - 18s 222ms/step - loss: 0.4856 - acc: 0.8350 - val_loss: 0.5537 - val_acc: 0.8181\n",
            "Epoch 30/100\n",
            "79/79 [==============================] - 17s 219ms/step - loss: 0.4739 - acc: 0.8389 - val_loss: 0.5009 - val_acc: 0.8347\n",
            "Epoch 31/100\n",
            "79/79 [==============================] - 17s 221ms/step - loss: 0.4735 - acc: 0.8396 - val_loss: 0.5722 - val_acc: 0.8120\n",
            "Epoch 32/100\n",
            "79/79 [==============================] - 18s 222ms/step - loss: 0.4593 - acc: 0.8432 - val_loss: 0.5333 - val_acc: 0.8182\n",
            "Epoch 33/100\n",
            "79/79 [==============================] - 17s 220ms/step - loss: 0.4668 - acc: 0.8386 - val_loss: 0.4732 - val_acc: 0.8438\n",
            "Epoch 34/100\n",
            "79/79 [==============================] - 17s 219ms/step - loss: 0.4648 - acc: 0.8401 - val_loss: 0.4888 - val_acc: 0.8360\n",
            "Epoch 35/100\n",
            "79/79 [==============================] - 17s 221ms/step - loss: 0.4535 - acc: 0.8447 - val_loss: 0.4504 - val_acc: 0.8500\n",
            "Epoch 36/100\n",
            "79/79 [==============================] - 17s 220ms/step - loss: 0.4369 - acc: 0.8486 - val_loss: 0.4842 - val_acc: 0.8384\n",
            "Epoch 37/100\n",
            "79/79 [==============================] - 17s 221ms/step - loss: 0.4343 - acc: 0.8499 - val_loss: 0.5695 - val_acc: 0.8207\n",
            "Epoch 38/100\n",
            "79/79 [==============================] - 17s 219ms/step - loss: 0.4354 - acc: 0.8526 - val_loss: 0.5206 - val_acc: 0.8309\n",
            "Epoch 39/100\n",
            "79/79 [==============================] - 18s 224ms/step - loss: 0.4287 - acc: 0.8541 - val_loss: 0.5167 - val_acc: 0.8296\n",
            "Epoch 40/100\n",
            "79/79 [==============================] - 18s 222ms/step - loss: 0.4264 - acc: 0.8544 - val_loss: 0.5139 - val_acc: 0.8354\n",
            "Epoch 41/100\n",
            "79/79 [==============================] - 17s 221ms/step - loss: 0.4282 - acc: 0.8552 - val_loss: 0.4889 - val_acc: 0.8446\n",
            "Epoch 42/100\n",
            "79/79 [==============================] - 17s 219ms/step - loss: 0.4290 - acc: 0.8545 - val_loss: 0.4648 - val_acc: 0.8474\n",
            "Epoch 43/100\n",
            "79/79 [==============================] - 17s 221ms/step - loss: 0.4152 - acc: 0.8564 - val_loss: 0.4381 - val_acc: 0.8518\n",
            "Epoch 44/100\n",
            "79/79 [==============================] - 18s 221ms/step - loss: 0.4062 - acc: 0.8592 - val_loss: 0.4911 - val_acc: 0.8380\n",
            "Epoch 45/100\n",
            "79/79 [==============================] - 17s 219ms/step - loss: 0.4074 - acc: 0.8619 - val_loss: 0.4613 - val_acc: 0.8461\n",
            "Epoch 46/100\n",
            "79/79 [==============================] - 17s 220ms/step - loss: 0.3985 - acc: 0.8612 - val_loss: 0.4633 - val_acc: 0.8488\n",
            "Epoch 47/100\n",
            "79/79 [==============================] - 17s 219ms/step - loss: 0.3996 - acc: 0.8621 - val_loss: 0.3962 - val_acc: 0.8673\n",
            "Epoch 48/100\n",
            "79/79 [==============================] - 17s 220ms/step - loss: 0.3969 - acc: 0.8644 - val_loss: 0.4269 - val_acc: 0.8581\n",
            "Epoch 49/100\n",
            "79/79 [==============================] - 17s 221ms/step - loss: 0.3927 - acc: 0.8643 - val_loss: 0.4892 - val_acc: 0.8426\n",
            "Epoch 50/100\n",
            "79/79 [==============================] - 18s 223ms/step - loss: 0.3849 - acc: 0.8682 - val_loss: 0.4615 - val_acc: 0.8530\n",
            "Epoch 51/100\n",
            "79/79 [==============================] - 17s 220ms/step - loss: 0.3829 - acc: 0.8686 - val_loss: 0.5356 - val_acc: 0.8344\n",
            "Epoch 52/100\n",
            "79/79 [==============================] - 17s 220ms/step - loss: 0.3801 - acc: 0.8681 - val_loss: 0.3982 - val_acc: 0.8670\n",
            "Epoch 53/100\n",
            "79/79 [==============================] - 17s 221ms/step - loss: 0.3821 - acc: 0.8696 - val_loss: 0.4230 - val_acc: 0.8608\n",
            "Epoch 54/100\n",
            "79/79 [==============================] - 17s 221ms/step - loss: 0.3803 - acc: 0.8689 - val_loss: 0.4489 - val_acc: 0.8537\n",
            "Epoch 55/100\n",
            "79/79 [==============================] - 17s 219ms/step - loss: 0.3803 - acc: 0.8690 - val_loss: 0.4195 - val_acc: 0.8625\n",
            "Epoch 56/100\n",
            "79/79 [==============================] - 18s 222ms/step - loss: 0.3786 - acc: 0.8702 - val_loss: 0.3966 - val_acc: 0.8695\n",
            "Epoch 57/100\n",
            "79/79 [==============================] - 18s 223ms/step - loss: 0.3671 - acc: 0.8733 - val_loss: 0.4947 - val_acc: 0.8431\n",
            "Epoch 58/100\n",
            "79/79 [==============================] - 17s 221ms/step - loss: 0.3667 - acc: 0.8746 - val_loss: 0.4422 - val_acc: 0.8589\n",
            "Epoch 59/100\n",
            "79/79 [==============================] - 18s 222ms/step - loss: 0.3661 - acc: 0.8749 - val_loss: 0.4780 - val_acc: 0.8455\n",
            "Epoch 60/100\n",
            "79/79 [==============================] - 18s 222ms/step - loss: 0.3609 - acc: 0.8758 - val_loss: 0.4711 - val_acc: 0.8437\n",
            "Epoch 61/100\n",
            "79/79 [==============================] - 17s 221ms/step - loss: 0.3596 - acc: 0.8768 - val_loss: 0.4127 - val_acc: 0.8637\n",
            "Epoch 62/100\n",
            "79/79 [==============================] - 17s 219ms/step - loss: 0.3608 - acc: 0.8779 - val_loss: 0.4448 - val_acc: 0.8552\n",
            "Epoch 63/100\n",
            "79/79 [==============================] - 17s 221ms/step - loss: 0.3538 - acc: 0.8793 - val_loss: 0.4661 - val_acc: 0.8504\n",
            "Epoch 64/100\n",
            "79/79 [==============================] - 17s 219ms/step - loss: 0.3484 - acc: 0.8809 - val_loss: 0.4560 - val_acc: 0.8542\n",
            "Epoch 65/100\n",
            "79/79 [==============================] - 17s 221ms/step - loss: 0.3454 - acc: 0.8797 - val_loss: 0.4341 - val_acc: 0.8609\n",
            "Epoch 66/100\n",
            "79/79 [==============================] - 17s 220ms/step - loss: 0.3437 - acc: 0.8807 - val_loss: 0.3894 - val_acc: 0.8726\n",
            "Epoch 67/100\n",
            "79/79 [==============================] - 18s 221ms/step - loss: 0.3428 - acc: 0.8825 - val_loss: 0.4193 - val_acc: 0.8634\n",
            "Epoch 68/100\n",
            "79/79 [==============================] - 17s 219ms/step - loss: 0.3368 - acc: 0.8835 - val_loss: 0.4252 - val_acc: 0.8604\n",
            "Epoch 69/100\n",
            "79/79 [==============================] - 17s 219ms/step - loss: 0.3455 - acc: 0.8831 - val_loss: 0.4156 - val_acc: 0.8648\n",
            "Epoch 70/100\n",
            "79/79 [==============================] - 17s 219ms/step - loss: 0.3410 - acc: 0.8828 - val_loss: 0.4063 - val_acc: 0.8690\n",
            "Epoch 71/100\n",
            "79/79 [==============================] - 17s 220ms/step - loss: 0.3375 - acc: 0.8827 - val_loss: 0.4376 - val_acc: 0.8579\n",
            "Epoch 72/100\n",
            "79/79 [==============================] - 17s 220ms/step - loss: 0.3298 - acc: 0.8851 - val_loss: 0.4712 - val_acc: 0.8578\n",
            "Epoch 73/100\n",
            "79/79 [==============================] - 17s 220ms/step - loss: 0.3298 - acc: 0.8873 - val_loss: 0.3861 - val_acc: 0.8762\n",
            "Epoch 74/100\n",
            "79/79 [==============================] - 18s 222ms/step - loss: 0.3251 - acc: 0.8873 - val_loss: 0.5929 - val_acc: 0.8179\n",
            "Epoch 75/100\n",
            "79/79 [==============================] - 18s 222ms/step - loss: 0.3304 - acc: 0.8857 - val_loss: 0.5054 - val_acc: 0.8404\n",
            "Epoch 76/100\n",
            "79/79 [==============================] - 17s 220ms/step - loss: 0.3390 - acc: 0.8830 - val_loss: 0.4142 - val_acc: 0.8686\n",
            "Epoch 77/100\n",
            "79/79 [==============================] - 18s 221ms/step - loss: 0.3298 - acc: 0.8864 - val_loss: 0.4396 - val_acc: 0.8578\n",
            "Epoch 78/100\n",
            "79/79 [==============================] - 17s 219ms/step - loss: 0.3240 - acc: 0.8878 - val_loss: 0.4420 - val_acc: 0.8617\n",
            "Epoch 79/100\n",
            "79/79 [==============================] - 17s 219ms/step - loss: 0.3256 - acc: 0.8864 - val_loss: 0.4241 - val_acc: 0.8641\n",
            "Epoch 80/100\n",
            "79/79 [==============================] - 17s 220ms/step - loss: 0.3232 - acc: 0.8903 - val_loss: 0.3848 - val_acc: 0.8778\n",
            "Epoch 81/100\n",
            "79/79 [==============================] - 17s 220ms/step - loss: 0.3246 - acc: 0.8884 - val_loss: 0.4399 - val_acc: 0.8634\n",
            "Epoch 82/100\n",
            "79/79 [==============================] - 17s 221ms/step - loss: 0.3133 - acc: 0.8926 - val_loss: 0.4052 - val_acc: 0.8690\n",
            "Epoch 83/100\n",
            "79/79 [==============================] - 17s 219ms/step - loss: 0.3154 - acc: 0.8921 - val_loss: 0.4229 - val_acc: 0.8660\n",
            "Epoch 84/100\n",
            "79/79 [==============================] - 17s 221ms/step - loss: 0.3243 - acc: 0.8901 - val_loss: 0.4623 - val_acc: 0.8598\n",
            "Epoch 85/100\n",
            "79/79 [==============================] - 17s 220ms/step - loss: 0.3071 - acc: 0.8919 - val_loss: 0.4352 - val_acc: 0.8616\n",
            "Epoch 86/100\n",
            "79/79 [==============================] - 18s 221ms/step - loss: 0.3155 - acc: 0.8907 - val_loss: 0.4047 - val_acc: 0.8692\n",
            "Epoch 87/100\n",
            "79/79 [==============================] - 17s 220ms/step - loss: 0.3142 - acc: 0.8916 - val_loss: 0.3847 - val_acc: 0.8758\n",
            "Epoch 88/100\n",
            "79/79 [==============================] - 17s 221ms/step - loss: 0.3060 - acc: 0.8948 - val_loss: 0.4067 - val_acc: 0.8709\n",
            "Epoch 89/100\n",
            "79/79 [==============================] - 17s 218ms/step - loss: 0.3093 - acc: 0.8938 - val_loss: 0.3959 - val_acc: 0.8733\n",
            "Epoch 90/100\n",
            "79/79 [==============================] - 17s 221ms/step - loss: 0.3069 - acc: 0.8950 - val_loss: 0.4239 - val_acc: 0.8674\n",
            "Epoch 91/100\n",
            "79/79 [==============================] - 17s 220ms/step - loss: 0.3060 - acc: 0.8965 - val_loss: 0.4223 - val_acc: 0.8658\n",
            "Epoch 92/100\n",
            "79/79 [==============================] - 18s 222ms/step - loss: 0.3064 - acc: 0.8944 - val_loss: 0.3949 - val_acc: 0.8720\n",
            "Epoch 93/100\n",
            "79/79 [==============================] - 18s 221ms/step - loss: 0.3026 - acc: 0.8969 - val_loss: 0.4034 - val_acc: 0.8710\n",
            "Epoch 94/100\n",
            "79/79 [==============================] - 17s 221ms/step - loss: 0.2997 - acc: 0.8967 - val_loss: 0.4205 - val_acc: 0.8704\n",
            "Epoch 95/100\n",
            "79/79 [==============================] - 17s 220ms/step - loss: 0.2950 - acc: 0.8974 - val_loss: 0.3971 - val_acc: 0.8734\n",
            "Epoch 96/100\n",
            "79/79 [==============================] - 17s 220ms/step - loss: 0.3015 - acc: 0.8964 - val_loss: 0.3635 - val_acc: 0.8846\n",
            "Epoch 97/100\n",
            "79/79 [==============================] - 17s 221ms/step - loss: 0.2960 - acc: 0.8983 - val_loss: 0.3898 - val_acc: 0.8754\n",
            "Epoch 98/100\n",
            "79/79 [==============================] - 17s 220ms/step - loss: 0.2993 - acc: 0.8971 - val_loss: 0.4296 - val_acc: 0.8727\n",
            "Epoch 99/100\n",
            "79/79 [==============================] - 17s 221ms/step - loss: 0.2914 - acc: 0.9008 - val_loss: 0.4072 - val_acc: 0.8735\n",
            "Epoch 100/100\n",
            "79/79 [==============================] - 17s 220ms/step - loss: 0.2889 - acc: 0.9013 - val_loss: 0.4468 - val_acc: 0.8657\n"
          ],
          "name": "stdout"
        }
      ]
    },
    {
      "cell_type": "code",
      "metadata": {
        "id": "Wek1LLUe6bdX"
      },
      "source": [
        "# history = model.fit(datagen, x_tr, y_tr, batch_size=512, epochs=100, validation_data=(x_val, y_val)"
      ],
      "execution_count": 35,
      "outputs": []
    },
    {
      "cell_type": "code",
      "metadata": {
        "id": "u4XydV_66bdY",
        "colab": {
          "base_uri": "https://localhost:8080/",
          "height": 279
        },
        "outputId": "7d3a3def-d43d-445e-cdc2-a4c21eb2e32a"
      },
      "source": [
        "import matplotlib.pyplot as plt\n",
        "%matplotlib inline\n",
        "\n",
        "acc = history.history['acc']\n",
        "val_acc = history.history['val_acc']\n",
        "\n",
        "epochs = range(len(acc))\n",
        "\n",
        "plt.plot(epochs, acc, 'bo', label='Training acc')\n",
        "plt.plot(epochs, val_acc, 'r', label='Validation acc')\n",
        "plt.xlabel('Epochs')\n",
        "plt.ylabel('Accuracy')\n",
        "plt.legend()\n",
        "plt.show()"
      ],
      "execution_count": 36,
      "outputs": [
        {
          "output_type": "display_data",
          "data": {
            "image/png": "[encoded data removed]",
            "text/plain": [
              "<Figure size 432x288 with 1 Axes>"
            ]
          },
          "metadata": {
            "tags": [],
            "needs_background": "light"
          }
        }
      ]
    },
    {
      "cell_type": "code",
      "metadata": {
        "colab": {
          "base_uri": "https://localhost:8080/",
          "height": 279
        },
        "id": "Vz9GL7KPlMVk",
        "outputId": "1947dd46-9923-431a-f35a-08751e3c0a6e"
      },
      "source": [
        "import matplotlib.pyplot as plt\n",
        "%matplotlib inline\n",
        "\n",
        "\n",
        "loss = history.history['loss']\n",
        "val_loss = history.history['val_loss']\n",
        "\n",
        "epochs = range(len(acc))\n",
        "\n",
        "plt.plot(epochs, loss, 'bo', label='Training loss')\n",
        "plt.plot(epochs, val_loss, 'r', label='Validation loss')\n",
        "plt.xlabel('Epochs')\n",
        "plt.ylabel('loss')\n",
        "plt.legend()\n",
        "plt.show()"
      ],
      "execution_count": 37,
      "outputs": [
        {
          "output_type": "display_data",
          "data": {
            "image/png": "[encoded data removed]",
            "text/plain": [
              "<Figure size 432x288 with 1 Axes>"
            ]
          },
          "metadata": {
            "tags": [],
            "needs_background": "light"
          }
        }
      ]
    },
    {
      "cell_type": "markdown",
      "metadata": {
        "id": "fhBhpBJI6bdY"
      },
      "source": [
        "## 3. Train (again) and evaluate the model\n",
        "\n",
        "- To this end, you have found the \"best\" hyper-parameters. \n",
        "- Now, fix the hyper-parameters and train the network on the entire training set (all the 50K training samples)\n",
        "- Evaluate your model on the test set."
      ]
    },
    {
      "cell_type": "code",
      "metadata": {
        "id": "UxffQzZu9bqg"
      },
      "source": [
        ""
      ],
      "execution_count": 37,
      "outputs": []
    },
    {
      "cell_type": "markdown",
      "metadata": {
        "id": "Eiv2cwqo6bda"
      },
      "source": [
        "### 3.1. Train the model on the entire training set\n",
        "\n",
        "Why? Previously, you used 40K samples for training; you wasted 10K samples for the sake of hyper-parameter tuning. Now you already know the hyper-parameters, so why not using all the 50K samples for training?"
      ]
    },
    {
      "cell_type": "code",
      "metadata": {
        "colab": {
          "base_uri": "https://localhost:8080/"
        },
        "id": "mvQ2cgK19dCP",
        "outputId": "32f653d0-7502-46e0-d2c9-7d14cf8bad42"
      },
      "source": [
        "model = Sequential()\n",
        "model.add(Conv2D(32, (3, 3), activation='relu', padding='same', input_shape=(32, 32, 3)))\n",
        "model.add(BatchNormalization())\n",
        "model.add(Conv2D(32, (3, 3), activation='relu', padding='same'))\n",
        "model.add(BatchNormalization())\n",
        "model.add(MaxPooling2D((2, 2)))\n",
        "model.add(Dropout(0.2))\n",
        "\n",
        "model.add(Conv2D(64, (3, 3), activation='relu', padding='same'))\n",
        "model.add(BatchNormalization())\n",
        "model.add(Conv2D(64, (3, 3), activation='relu', padding='same'))\n",
        "model.add(BatchNormalization())\n",
        "model.add(MaxPooling2D((2, 2)))\n",
        "model.add(Dropout(0.3))\n",
        "\n",
        "model.add(Conv2D(128, (3, 3), activation='relu', padding='same'))\n",
        "model.add(BatchNormalization())\n",
        "model.add(Conv2D(128, (3, 3), activation='relu', padding='same'))\n",
        "model.add(BatchNormalization())\n",
        "model.add(MaxPooling2D((2, 2)))\n",
        "model.add(Dropout(0.4))\n",
        "\n",
        "# model.add(Conv2D(256, (3, 3), activation='relu', padding='same'))\n",
        "# model.add(BatchNormalization())\n",
        "# model.add(Conv2D(256, (3, 3), activation='relu', padding='same'))\n",
        "# model.add(BatchNormalization())\n",
        "# model.add(MaxPooling2D((2, 2)))\n",
        "# model.add(Dropout(0.5))\n",
        "\n",
        "model.add(Flatten())\n",
        "# model.add(Dropout(0.5))\n",
        "model.add(Dense(128, activation='relu'))\n",
        "model.add(BatchNormalization())\n",
        "# model.add(Dense(256, activation='relu'))\n",
        "model.add(Dropout(0.5))\n",
        "model.add(Dense(10, activation='softmax'))\n",
        "\n",
        "\n",
        "model.summary()"
      ],
      "execution_count": 38,
      "outputs": [
        {
          "output_type": "stream",
          "text": [
            "Model: \"sequential_5\"\n",
            "_________________________________________________________________\n",
            "Layer (type)                 Output Shape              Param #   \n",
            "=================================================================\n",
            "conv2d_32 (Conv2D)           (None, 32, 32, 32)        896       \n",
            "_________________________________________________________________\n",
            "batch_normalization_37 (Batc (None, 32, 32, 32)        128       \n",
            "_________________________________________________________________\n",
            "conv2d_33 (Conv2D)           (None, 32, 32, 32)        9248      \n",
            "_________________________________________________________________\n",
            "batch_normalization_38 (Batc (None, 32, 32, 32)        128       \n",
            "_________________________________________________________________\n",
            "max_pooling2d_16 (MaxPooling (None, 16, 16, 32)        0         \n",
            "_________________________________________________________________\n",
            "dropout_21 (Dropout)         (None, 16, 16, 32)        0         \n",
            "_________________________________________________________________\n",
            "conv2d_34 (Conv2D)           (None, 16, 16, 64)        18496     \n",
            "_________________________________________________________________\n",
            "batch_normalization_39 (Batc (None, 16, 16, 64)        256       \n",
            "_________________________________________________________________\n",
            "conv2d_35 (Conv2D)           (None, 16, 16, 64)        36928     \n",
            "_________________________________________________________________\n",
            "batch_normalization_40 (Batc (None, 16, 16, 64)        256       \n",
            "_________________________________________________________________\n",
            "max_pooling2d_17 (MaxPooling (None, 8, 8, 64)          0         \n",
            "_________________________________________________________________\n",
            "dropout_22 (Dropout)         (None, 8, 8, 64)          0         \n",
            "_________________________________________________________________\n",
            "conv2d_36 (Conv2D)           (None, 8, 8, 128)         73856     \n",
            "_________________________________________________________________\n",
            "batch_normalization_41 (Batc (None, 8, 8, 128)         512       \n",
            "_________________________________________________________________\n",
            "conv2d_37 (Conv2D)           (None, 8, 8, 128)         147584    \n",
            "_________________________________________________________________\n",
            "batch_normalization_42 (Batc (None, 8, 8, 128)         512       \n",
            "_________________________________________________________________\n",
            "max_pooling2d_18 (MaxPooling (None, 4, 4, 128)         0         \n",
            "_________________________________________________________________\n",
            "dropout_23 (Dropout)         (None, 4, 4, 128)         0         \n",
            "_________________________________________________________________\n",
            "flatten_5 (Flatten)          (None, 2048)              0         \n",
            "_________________________________________________________________\n",
            "dense_10 (Dense)             (None, 128)               262272    \n",
            "_________________________________________________________________\n",
            "batch_normalization_43 (Batc (None, 128)               512       \n",
            "_________________________________________________________________\n",
            "dropout_24 (Dropout)         (None, 128)               0         \n",
            "_________________________________________________________________\n",
            "dense_11 (Dense)             (None, 10)                1290      \n",
            "=================================================================\n",
            "Total params: 552,874\n",
            "Trainable params: 551,722\n",
            "Non-trainable params: 1,152\n",
            "_________________________________________________________________\n"
          ],
          "name": "stdout"
        }
      ]
    },
    {
      "cell_type": "code",
      "metadata": {
        "id": "GvB2INbq9zAZ"
      },
      "source": [
        "learning_rate = 0.001 # to be tuned!\n",
        "\n",
        "model.compile(loss='CategoricalCrossentropy',\n",
        "              optimizer=optimizers.RMSprop(lr=learning_rate),\n",
        "              metrics=['acc'])"
      ],
      "execution_count": 39,
      "outputs": []
    },
    {
      "cell_type": "code",
      "metadata": {
        "colab": {
          "base_uri": "https://localhost:8080/"
        },
        "id": "e_L_SubT90H2",
        "outputId": "2943c365-24e3-4214-885e-b67483ce318c"
      },
      "source": [
        "datagen = ImageDataGenerator(width_shift_range = 0.1, height_shift_range = 0.1, horizontal_flip = True, )\n",
        "# it_train = datagen.flow(x_tr, y_tr, 512)\n",
        "datagen.fit(x_train)\n",
        "\n",
        "history = model.fit(datagen.flow(x_train, y_train_vec, batch_size=512),\n",
        "    epochs=100)"
      ],
      "execution_count": 40,
      "outputs": [
        {
          "output_type": "stream",
          "text": [
            "Epoch 1/100\n",
            "98/98 [==============================] - 23s 218ms/step - loss: 2.3107 - acc: 0.2772\n",
            "Epoch 2/100\n",
            "98/98 [==============================] - 21s 210ms/step - loss: 1.5281 - acc: 0.4657\n",
            "Epoch 3/100\n",
            "98/98 [==============================] - 21s 209ms/step - loss: 1.2709 - acc: 0.5575\n",
            "Epoch 4/100\n",
            "98/98 [==============================] - 21s 211ms/step - loss: 1.1081 - acc: 0.6160\n",
            "Epoch 5/100\n",
            "98/98 [==============================] - 21s 209ms/step - loss: 0.9784 - acc: 0.6581\n",
            "Epoch 6/100\n",
            "98/98 [==============================] - 21s 210ms/step - loss: 0.8945 - acc: 0.6896\n",
            "Epoch 7/100\n",
            "98/98 [==============================] - 21s 210ms/step - loss: 0.8254 - acc: 0.7121\n",
            "Epoch 8/100\n",
            "98/98 [==============================] - 21s 210ms/step - loss: 0.7874 - acc: 0.7244\n",
            "Epoch 9/100\n",
            "98/98 [==============================] - 21s 211ms/step - loss: 0.7438 - acc: 0.7450\n",
            "Epoch 10/100\n",
            "98/98 [==============================] - 21s 211ms/step - loss: 0.7119 - acc: 0.7534\n",
            "Epoch 11/100\n",
            "98/98 [==============================] - 21s 209ms/step - loss: 0.6881 - acc: 0.7654\n",
            "Epoch 12/100\n",
            "98/98 [==============================] - 21s 210ms/step - loss: 0.6536 - acc: 0.7719\n",
            "Epoch 13/100\n",
            "98/98 [==============================] - 21s 210ms/step - loss: 0.6397 - acc: 0.7778\n",
            "Epoch 14/100\n",
            "98/98 [==============================] - 21s 210ms/step - loss: 0.6213 - acc: 0.7892\n",
            "Epoch 15/100\n",
            "98/98 [==============================] - 21s 210ms/step - loss: 0.6078 - acc: 0.7903\n",
            "Epoch 16/100\n",
            "98/98 [==============================] - 21s 210ms/step - loss: 0.5779 - acc: 0.8022\n",
            "Epoch 17/100\n",
            "98/98 [==============================] - 21s 209ms/step - loss: 0.5663 - acc: 0.8031\n",
            "Epoch 18/100\n",
            "98/98 [==============================] - 21s 209ms/step - loss: 0.5538 - acc: 0.8133\n",
            "Epoch 19/100\n",
            "98/98 [==============================] - 21s 209ms/step - loss: 0.5461 - acc: 0.8111\n",
            "Epoch 20/100\n",
            "98/98 [==============================] - 21s 211ms/step - loss: 0.5326 - acc: 0.8192\n",
            "Epoch 21/100\n",
            "98/98 [==============================] - 21s 210ms/step - loss: 0.5283 - acc: 0.8222\n",
            "Epoch 22/100\n",
            "98/98 [==============================] - 21s 210ms/step - loss: 0.5186 - acc: 0.8221\n",
            "Epoch 23/100\n",
            "98/98 [==============================] - 21s 211ms/step - loss: 0.5176 - acc: 0.8240\n",
            "Epoch 24/100\n",
            "98/98 [==============================] - 21s 212ms/step - loss: 0.4949 - acc: 0.8304\n",
            "Epoch 25/100\n",
            "98/98 [==============================] - 21s 210ms/step - loss: 0.4764 - acc: 0.8335\n",
            "Epoch 26/100\n",
            "98/98 [==============================] - 21s 209ms/step - loss: 0.4883 - acc: 0.8341\n",
            "Epoch 27/100\n",
            "98/98 [==============================] - 21s 209ms/step - loss: 0.4725 - acc: 0.8377\n",
            "Epoch 28/100\n",
            "98/98 [==============================] - 21s 212ms/step - loss: 0.4685 - acc: 0.8385\n",
            "Epoch 29/100\n",
            "98/98 [==============================] - 21s 209ms/step - loss: 0.4577 - acc: 0.8409\n",
            "Epoch 30/100\n",
            "98/98 [==============================] - 21s 212ms/step - loss: 0.4544 - acc: 0.8441\n",
            "Epoch 31/100\n",
            "98/98 [==============================] - 21s 211ms/step - loss: 0.4430 - acc: 0.8496\n",
            "Epoch 32/100\n",
            "98/98 [==============================] - 21s 209ms/step - loss: 0.4477 - acc: 0.8483\n",
            "Epoch 33/100\n",
            "98/98 [==============================] - 21s 210ms/step - loss: 0.4378 - acc: 0.8489\n",
            "Epoch 34/100\n",
            "98/98 [==============================] - 21s 210ms/step - loss: 0.4406 - acc: 0.8480\n",
            "Epoch 35/100\n",
            "98/98 [==============================] - 20s 208ms/step - loss: 0.4308 - acc: 0.8529\n",
            "Epoch 36/100\n",
            "98/98 [==============================] - 21s 212ms/step - loss: 0.4263 - acc: 0.8551\n",
            "Epoch 37/100\n",
            "98/98 [==============================] - 20s 208ms/step - loss: 0.4230 - acc: 0.8547\n",
            "Epoch 38/100\n",
            "98/98 [==============================] - 21s 212ms/step - loss: 0.4209 - acc: 0.8554\n",
            "Epoch 39/100\n",
            "98/98 [==============================] - 21s 213ms/step - loss: 0.4172 - acc: 0.8575\n",
            "Epoch 40/100\n",
            "98/98 [==============================] - 21s 210ms/step - loss: 0.4037 - acc: 0.8615\n",
            "Epoch 41/100\n",
            "98/98 [==============================] - 21s 210ms/step - loss: 0.4030 - acc: 0.8619\n",
            "Epoch 42/100\n",
            "98/98 [==============================] - 21s 210ms/step - loss: 0.3933 - acc: 0.8666\n",
            "Epoch 43/100\n",
            "98/98 [==============================] - 21s 210ms/step - loss: 0.3920 - acc: 0.8650\n",
            "Epoch 44/100\n",
            "98/98 [==============================] - 21s 210ms/step - loss: 0.3931 - acc: 0.8659\n",
            "Epoch 45/100\n",
            "98/98 [==============================] - 21s 210ms/step - loss: 0.3881 - acc: 0.8686\n",
            "Epoch 46/100\n",
            "98/98 [==============================] - 21s 210ms/step - loss: 0.3892 - acc: 0.8658\n",
            "Epoch 47/100\n",
            "98/98 [==============================] - 21s 211ms/step - loss: 0.3787 - acc: 0.8698\n",
            "Epoch 48/100\n",
            "98/98 [==============================] - 21s 210ms/step - loss: 0.3723 - acc: 0.8725\n",
            "Epoch 49/100\n",
            "98/98 [==============================] - 21s 210ms/step - loss: 0.3862 - acc: 0.8673\n",
            "Epoch 50/100\n",
            "98/98 [==============================] - 21s 210ms/step - loss: 0.3710 - acc: 0.8748\n",
            "Epoch 51/100\n",
            "98/98 [==============================] - 21s 211ms/step - loss: 0.3748 - acc: 0.8734\n",
            "Epoch 52/100\n",
            "98/98 [==============================] - 21s 209ms/step - loss: 0.3662 - acc: 0.8737\n",
            "Epoch 53/100\n",
            "98/98 [==============================] - 21s 212ms/step - loss: 0.3669 - acc: 0.8741\n",
            "Epoch 54/100\n",
            "98/98 [==============================] - 21s 211ms/step - loss: 0.3662 - acc: 0.8743\n",
            "Epoch 55/100\n",
            "98/98 [==============================] - 21s 210ms/step - loss: 0.3600 - acc: 0.8767\n",
            "Epoch 56/100\n",
            "98/98 [==============================] - 21s 210ms/step - loss: 0.3617 - acc: 0.8744\n",
            "Epoch 57/100\n",
            "98/98 [==============================] - 21s 210ms/step - loss: 0.3605 - acc: 0.8744\n",
            "Epoch 58/100\n",
            "98/98 [==============================] - 21s 210ms/step - loss: 0.3557 - acc: 0.8790\n",
            "Epoch 59/100\n",
            "98/98 [==============================] - 21s 210ms/step - loss: 0.3431 - acc: 0.8818\n",
            "Epoch 60/100\n",
            "98/98 [==============================] - 21s 210ms/step - loss: 0.3466 - acc: 0.8820\n",
            "Epoch 61/100\n",
            "98/98 [==============================] - 21s 209ms/step - loss: 0.3501 - acc: 0.8806\n",
            "Epoch 62/100\n",
            "98/98 [==============================] - 21s 210ms/step - loss: 0.3429 - acc: 0.8829\n",
            "Epoch 63/100\n",
            "98/98 [==============================] - 21s 211ms/step - loss: 0.3525 - acc: 0.8811\n",
            "Epoch 64/100\n",
            "98/98 [==============================] - 21s 209ms/step - loss: 0.3438 - acc: 0.8813\n",
            "Epoch 65/100\n",
            "98/98 [==============================] - 21s 211ms/step - loss: 0.3400 - acc: 0.8831\n",
            "Epoch 66/100\n",
            "98/98 [==============================] - 21s 211ms/step - loss: 0.3417 - acc: 0.8817\n",
            "Epoch 67/100\n",
            "98/98 [==============================] - 21s 218ms/step - loss: 0.3397 - acc: 0.8833\n",
            "Epoch 68/100\n",
            "98/98 [==============================] - 21s 219ms/step - loss: 0.3273 - acc: 0.8865\n",
            "Epoch 69/100\n",
            "98/98 [==============================] - 21s 215ms/step - loss: 0.3427 - acc: 0.8811\n",
            "Epoch 70/100\n",
            "98/98 [==============================] - 21s 211ms/step - loss: 0.3283 - acc: 0.8875\n",
            "Epoch 71/100\n",
            "98/98 [==============================] - 21s 213ms/step - loss: 0.3278 - acc: 0.8883\n",
            "Epoch 72/100\n",
            "98/98 [==============================] - 21s 211ms/step - loss: 0.3330 - acc: 0.8869\n",
            "Epoch 73/100\n",
            "98/98 [==============================] - 21s 213ms/step - loss: 0.3226 - acc: 0.8893\n",
            "Epoch 74/100\n",
            "98/98 [==============================] - 21s 213ms/step - loss: 0.3171 - acc: 0.8914\n",
            "Epoch 75/100\n",
            "98/98 [==============================] - 21s 213ms/step - loss: 0.3293 - acc: 0.8866\n",
            "Epoch 76/100\n",
            "98/98 [==============================] - 21s 211ms/step - loss: 0.3129 - acc: 0.8908\n",
            "Epoch 77/100\n",
            "98/98 [==============================] - 21s 211ms/step - loss: 0.3184 - acc: 0.8918\n",
            "Epoch 78/100\n",
            "98/98 [==============================] - 21s 211ms/step - loss: 0.3219 - acc: 0.8883\n",
            "Epoch 79/100\n",
            "98/98 [==============================] - 21s 214ms/step - loss: 0.3136 - acc: 0.8925\n",
            "Epoch 80/100\n",
            "98/98 [==============================] - 21s 214ms/step - loss: 0.3210 - acc: 0.8890\n",
            "Epoch 81/100\n",
            "98/98 [==============================] - 21s 210ms/step - loss: 0.3139 - acc: 0.8915\n",
            "Epoch 82/100\n",
            "98/98 [==============================] - 21s 211ms/step - loss: 0.3207 - acc: 0.8891\n",
            "Epoch 83/100\n",
            "98/98 [==============================] - 21s 213ms/step - loss: 0.3126 - acc: 0.8919\n",
            "Epoch 84/100\n",
            "98/98 [==============================] - 21s 211ms/step - loss: 0.3117 - acc: 0.8924\n",
            "Epoch 85/100\n",
            "98/98 [==============================] - 21s 212ms/step - loss: 0.3116 - acc: 0.8910\n",
            "Epoch 86/100\n",
            "98/98 [==============================] - 21s 211ms/step - loss: 0.3113 - acc: 0.8957\n",
            "Epoch 87/100\n",
            "98/98 [==============================] - 21s 211ms/step - loss: 0.3087 - acc: 0.8960\n",
            "Epoch 88/100\n",
            "98/98 [==============================] - 21s 212ms/step - loss: 0.3085 - acc: 0.8930\n",
            "Epoch 89/100\n",
            "98/98 [==============================] - 21s 210ms/step - loss: 0.2996 - acc: 0.8965\n",
            "Epoch 90/100\n",
            "98/98 [==============================] - 21s 211ms/step - loss: 0.2881 - acc: 0.9009\n",
            "Epoch 91/100\n",
            "98/98 [==============================] - 21s 210ms/step - loss: 0.3010 - acc: 0.8960\n",
            "Epoch 92/100\n",
            "98/98 [==============================] - 21s 211ms/step - loss: 0.3051 - acc: 0.8946\n",
            "Epoch 93/100\n",
            "98/98 [==============================] - 21s 210ms/step - loss: 0.2995 - acc: 0.8967\n",
            "Epoch 94/100\n",
            "98/98 [==============================] - 21s 212ms/step - loss: 0.2985 - acc: 0.8956\n",
            "Epoch 95/100\n",
            "98/98 [==============================] - 21s 211ms/step - loss: 0.3010 - acc: 0.8966\n",
            "Epoch 96/100\n",
            "98/98 [==============================] - 21s 210ms/step - loss: 0.2949 - acc: 0.8964\n",
            "Epoch 97/100\n",
            "98/98 [==============================] - 21s 212ms/step - loss: 0.3001 - acc: 0.8977\n",
            "Epoch 98/100\n",
            "98/98 [==============================] - 21s 212ms/step - loss: 0.2928 - acc: 0.9016\n",
            "Epoch 99/100\n",
            "98/98 [==============================] - 21s 211ms/step - loss: 0.2940 - acc: 0.8984\n",
            "Epoch 100/100\n",
            "98/98 [==============================] - 21s 211ms/step - loss: 0.2921 - acc: 0.8984\n"
          ],
          "name": "stdout"
        }
      ]
    },
    {
      "cell_type": "markdown",
      "metadata": {
        "id": "AncNgIww6bdb"
      },
      "source": [
        "<Compile your model again (using the same hyper-parameters)>\n",
        "..."
      ]
    },
    {
      "cell_type": "markdown",
      "metadata": {
        "id": "-R_Qm49f6bdc"
      },
      "source": [
        "<Train your model on the entire training set (50K samples)>\n",
        "<Use (x_train, y_train_vec) instead of (x_tr, y_tr)>\n",
        "<Do NOT use the validation_data option (because now you do not have validation data)>\n",
        "..."
      ]
    },
    {
      "cell_type": "markdown",
      "metadata": {
        "id": "uPpstA_S6bdd"
      },
      "source": [
        "### 3.2. Evaluate the model on the test set\n",
        "\n",
        "Do NOT used the test set until now. Make sure that your model parameters and hyper-parameters are independent of the test set."
      ]
    },
    {
      "cell_type": "code",
      "metadata": {
        "id": "sIdydrJQ6bdd",
        "colab": {
          "base_uri": "https://localhost:8080/"
        },
        "outputId": "a2241ffb-f77b-416d-9f93-e7ce6de20140"
      },
      "source": [
        "loss_and_acc = model.evaluate(x_test, y_test_vec)\n",
        "print('loss = ' + str(loss_and_acc[0]))\n",
        "print('accuracy = ' + str(loss_and_acc[1]))"
      ],
      "execution_count": 41,
      "outputs": [
        {
          "output_type": "stream",
          "text": [
            "313/313 [==============================] - 1s 3ms/step - loss: 0.4662 - acc: 0.8603\n",
            "loss = 0.4662163555622101\n",
            "accuracy = 0.8603000044822693\n"
          ],
          "name": "stdout"
        }
      ]
    },
    {
      "cell_type": "code",
      "metadata": {
        "id": "jDcleuuQ6bde"
      },
      "source": [
        ""
      ],
      "execution_count": 41,
      "outputs": []
    }
  ]
}